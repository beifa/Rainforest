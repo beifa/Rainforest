{
 "cells": [
  {
   "cell_type": "code",
   "execution_count": 1,
   "metadata": {
    "execution": {
     "iopub.execute_input": "2021-02-10T21:47:09.207856Z",
     "iopub.status.busy": "2021-02-10T21:47:09.207118Z",
     "iopub.status.idle": "2021-02-10T21:47:10.048332Z",
     "shell.execute_reply": "2021-02-10T21:47:10.047718Z"
    },
    "id": "PE8UFItq1iU7",
    "papermill": {
     "duration": 0.858794,
     "end_time": "2021-02-10T21:47:10.048535",
     "exception": false,
     "start_time": "2021-02-10T21:47:09.189741",
     "status": "completed"
    },
    "tags": []
   },
   "outputs": [],
   "source": [
    "import os\n",
    "import glob\n",
    "import cv2\n",
    "import time\n",
    "import random\n",
    "import torch\n",
    "import geffnet\n",
    "import argparse\n",
    "import pandas as pd\n",
    "import numpy as np\n",
    "import torch.nn as nn\n",
    "import pretrainedmodels\n",
    "from tqdm import tqdm\n",
    "import torch.optim as optim\n",
    "import torch.nn.functional as F\n",
    "import matplotlib.pyplot as plt\n",
    "from torch.utils.data import Dataset\n",
    "from torch.cuda import amp\n",
    "from sklearn.model_selection import StratifiedKFold, GroupKFold\n",
    "from torch.utils.data import TensorDataset, DataLoader,Dataset, RandomSampler\n",
    "from sklearn.metrics import roc_auc_score, average_precision_score\n",
    "from sklearn.metrics import label_ranking_average_precision_score\n",
    "\n",
    "SEED = 13\n",
    "device = torch.device('cuda') if torch.cuda.is_available() else torch.device('cpu')"
   ]
  },
  {
   "cell_type": "code",
   "execution_count": 2,
   "metadata": {},
   "outputs": [
    {
     "name": "stdout",
     "output_type": "stream",
     "text": [
      "/home/pka/kaggle/Rainforest/notebook_private\r\n"
     ]
    }
   ],
   "source": [
    "!pwd"
   ]
  },
  {
   "cell_type": "code",
   "execution_count": 3,
   "metadata": {
    "execution": {
     "iopub.execute_input": "2021-02-10T21:47:10.076029Z",
     "iopub.status.busy": "2021-02-10T21:47:10.075240Z",
     "iopub.status.idle": "2021-02-10T21:47:10.078197Z",
     "shell.execute_reply": "2021-02-10T21:47:10.077751Z"
    },
    "id": "jPjj39ghB4T5",
    "papermill": {
     "duration": 0.017994,
     "end_time": "2021-02-10T21:47:10.078344",
     "exception": false,
     "start_time": "2021-02-10T21:47:10.060350",
     "status": "completed"
    },
    "tags": []
   },
   "outputs": [],
   "source": [
    "# PATH_IMG = '../input/make-img-sr32power2mel384-ch-f0-9-f1-1-power-to-db/train_img.zip'\n",
    "# PATH_IMG = '../input/experement-make-img-sr32power2mel384-ff111-pow/train_img.zip'\n",
    "# PATH_IMG = '/home/pka/kaggle/Rainforest/notebook_private/exp_train_img32.zip'\n",
    "PATH_IMG = '/home/pka/kaggle/Rainforest/notebook_private/train_img_260_default.zip'#default_train_img32.zip'\n",
    "PATH_MODEL = '/home/pka/kaggle/Rainforest/notebook_private/model_optuna/'"
   ]
  },
  {
   "cell_type": "code",
   "execution_count": 4,
   "metadata": {
    "execution": {
     "iopub.execute_input": "2021-02-10T21:47:10.105912Z",
     "iopub.status.busy": "2021-02-10T21:47:10.105068Z",
     "iopub.status.idle": "2021-02-10T21:47:10.107974Z",
     "shell.execute_reply": "2021-02-10T21:47:10.107544Z"
    },
    "id": "lbniGpwO7Wuz",
    "outputId": "f272c63f-9b92-4f03-89be-6b76e4487e88",
    "papermill": {
     "duration": 0.018243,
     "end_time": "2021-02-10T21:47:10.108100",
     "exception": false,
     "start_time": "2021-02-10T21:47:10.089857",
     "status": "completed"
    },
    "tags": []
   },
   "outputs": [],
   "source": [
    "# !pip install albumentations --upgrade albumentations"
   ]
  },
  {
   "cell_type": "code",
   "execution_count": 5,
   "metadata": {
    "execution": {
     "iopub.execute_input": "2021-02-10T21:47:10.135550Z",
     "iopub.status.busy": "2021-02-10T21:47:10.134950Z",
     "iopub.status.idle": "2021-02-10T21:47:19.773240Z",
     "shell.execute_reply": "2021-02-10T21:47:19.772257Z"
    },
    "id": "FYpA4_6i1iVA",
    "outputId": "3f9f3b70-fd6a-4e40-f6d6-b0d2c47c8595",
    "papermill": {
     "duration": 9.653792,
     "end_time": "2021-02-10T21:47:19.773404",
     "exception": false,
     "start_time": "2021-02-10T21:47:10.119612",
     "status": "completed"
    },
    "tags": []
   },
   "outputs": [
    {
     "name": "stdout",
     "output_type": "stream",
     "text": [
      "Requirement already satisfied: pretrainedmodels in /home/pka/.local/lib/python3.8/site-packages (0.7.4)\r\n",
      "Requirement already satisfied: munch in /home/pka/.local/lib/python3.8/site-packages (from pretrainedmodels) (2.5.0)\r\n",
      "Requirement already satisfied: tqdm in /home/pka/.local/lib/python3.8/site-packages (from pretrainedmodels) (4.48.2)\r\n",
      "Requirement already satisfied: torchvision in /home/pka/.local/lib/python3.8/site-packages (from pretrainedmodels) (0.7.0)\r\n",
      "Requirement already satisfied: torch in /home/pka/.local/lib/python3.8/site-packages (from pretrainedmodels) (1.6.0)\r\n",
      "Requirement already satisfied: six in /usr/lib/python3/dist-packages (from munch->pretrainedmodels) (1.14.0)\r\n",
      "Requirement already satisfied: numpy in /home/pka/.local/lib/python3.8/site-packages (from torchvision->pretrainedmodels) (1.19.1)\r\n",
      "Requirement already satisfied: pillow>=4.1.1 in /usr/lib/python3/dist-packages (from torchvision->pretrainedmodels) (7.0.0)\r\n",
      "Requirement already satisfied: future in /home/pka/.local/lib/python3.8/site-packages (from torch->pretrainedmodels) (0.18.2)\r\n"
     ]
    }
   ],
   "source": [
    "!pip3 install pretrainedmodels"
   ]
  },
  {
   "cell_type": "code",
   "execution_count": 6,
   "metadata": {
    "execution": {
     "iopub.execute_input": "2021-02-10T21:47:19.808688Z",
     "iopub.status.busy": "2021-02-10T21:47:19.807898Z",
     "iopub.status.idle": "2021-02-10T21:47:26.636810Z",
     "shell.execute_reply": "2021-02-10T21:47:26.637769Z"
    },
    "id": "sd4Lb8rs1iVB",
    "outputId": "6374e325-2768-4069-8698-747373b23ecc",
    "papermill": {
     "duration": 6.849347,
     "end_time": "2021-02-10T21:47:26.637946",
     "exception": false,
     "start_time": "2021-02-10T21:47:19.788599",
     "status": "completed"
    },
    "tags": []
   },
   "outputs": [
    {
     "name": "stdout",
     "output_type": "stream",
     "text": [
      "Requirement already satisfied: geffnet in /home/pka/.local/lib/python3.8/site-packages (1.0.0)\r\n",
      "Requirement already satisfied: torchvision in /home/pka/.local/lib/python3.8/site-packages (from geffnet) (0.7.0)\r\n",
      "Requirement already satisfied: torch>=1.4 in /home/pka/.local/lib/python3.8/site-packages (from geffnet) (1.6.0)\r\n",
      "Requirement already satisfied: numpy in /home/pka/.local/lib/python3.8/site-packages (from torchvision->geffnet) (1.19.1)\r\n",
      "Requirement already satisfied: pillow>=4.1.1 in /usr/lib/python3/dist-packages (from torchvision->geffnet) (7.0.0)\r\n",
      "Requirement already satisfied: future in /home/pka/.local/lib/python3.8/site-packages (from torch>=1.4->geffnet) (0.18.2)\r\n"
     ]
    }
   ],
   "source": [
    "!pip3 install geffnet"
   ]
  },
  {
   "cell_type": "code",
   "execution_count": 7,
   "metadata": {
    "execution": {
     "iopub.execute_input": "2021-02-10T21:47:26.681240Z",
     "iopub.status.busy": "2021-02-10T21:47:26.676589Z",
     "iopub.status.idle": "2021-02-10T21:47:34.198907Z",
     "shell.execute_reply": "2021-02-10T21:47:34.198437Z"
    },
    "id": "3PHu-_ni2N6t",
    "outputId": "f7dbbaea-cf8a-427a-f0bd-8568d313cb2b",
    "papermill": {
     "duration": 7.543688,
     "end_time": "2021-02-10T21:47:34.199050",
     "exception": false,
     "start_time": "2021-02-10T21:47:26.655362",
     "status": "completed"
    },
    "tags": []
   },
   "outputs": [
    {
     "name": "stdout",
     "output_type": "stream",
     "text": [
      "Requirement already up-to-date: optuna in /home/pka/.local/lib/python3.8/site-packages (2.5.0)\n",
      "Requirement already satisfied, skipping upgrade: scipy!=1.4.0 in /home/pka/.local/lib/python3.8/site-packages (from optuna) (1.5.2)\n",
      "Requirement already satisfied, skipping upgrade: numpy in /home/pka/.local/lib/python3.8/site-packages (from optuna) (1.19.1)\n",
      "Requirement already satisfied, skipping upgrade: packaging>=20.0 in /home/pka/.local/lib/python3.8/site-packages (from optuna) (20.4)\n",
      "Requirement already satisfied, skipping upgrade: sqlalchemy>=1.1.0 in /home/pka/.local/lib/python3.8/site-packages (from optuna) (1.3.23)\n",
      "Requirement already satisfied, skipping upgrade: tqdm in /home/pka/.local/lib/python3.8/site-packages (from optuna) (4.48.2)\n",
      "Requirement already satisfied, skipping upgrade: joblib in /home/pka/.local/lib/python3.8/site-packages (from optuna) (0.16.0)\n",
      "Requirement already satisfied, skipping upgrade: colorlog in /home/pka/.local/lib/python3.8/site-packages (from optuna) (4.7.2)\n",
      "Requirement already satisfied, skipping upgrade: alembic in /home/pka/.local/lib/python3.8/site-packages (from optuna) (1.5.4)\n",
      "Requirement already satisfied, skipping upgrade: cliff in /home/pka/.local/lib/python3.8/site-packages (from optuna) (3.6.0)\n",
      "Requirement already satisfied, skipping upgrade: cmaes>=0.6.0 in /home/pka/.local/lib/python3.8/site-packages (from optuna) (0.8.1)\n",
      "Requirement already satisfied, skipping upgrade: pyparsing>=2.0.2 in /home/pka/.local/lib/python3.8/site-packages (from packaging>=20.0->optuna) (2.4.7)\n",
      "Requirement already satisfied, skipping upgrade: six in /usr/lib/python3/dist-packages (from packaging>=20.0->optuna) (1.14.0)\n",
      "Requirement already satisfied, skipping upgrade: python-dateutil in /usr/lib/python3/dist-packages (from alembic->optuna) (2.7.3)\n",
      "Requirement already satisfied, skipping upgrade: Mako in /home/pka/.local/lib/python3.8/site-packages (from alembic->optuna) (1.1.4)\n",
      "Requirement already satisfied, skipping upgrade: python-editor>=0.3 in /home/pka/.local/lib/python3.8/site-packages (from alembic->optuna) (1.0.4)\n",
      "Requirement already satisfied, skipping upgrade: PyYAML>=3.12 in /usr/lib/python3/dist-packages (from cliff->optuna) (5.3.1)\n",
      "Requirement already satisfied, skipping upgrade: stevedore>=2.0.1 in /home/pka/.local/lib/python3.8/site-packages (from cliff->optuna) (3.3.0)\n",
      "Requirement already satisfied, skipping upgrade: pbr!=2.1.0,>=2.0.0 in /home/pka/.local/lib/python3.8/site-packages (from cliff->optuna) (5.5.1)\n",
      "Requirement already satisfied, skipping upgrade: PrettyTable<0.8,>=0.7.2 in /home/pka/.local/lib/python3.8/site-packages (from cliff->optuna) (0.7.2)\n",
      "Requirement already satisfied, skipping upgrade: cmd2!=0.8.3,>=0.8.0 in /home/pka/.local/lib/python3.8/site-packages (from cliff->optuna) (1.5.0)\n",
      "Requirement already satisfied, skipping upgrade: MarkupSafe>=0.9.2 in /home/pka/.local/lib/python3.8/site-packages (from Mako->alembic->optuna) (1.1.1)\n",
      "Requirement already satisfied, skipping upgrade: wcwidth>=0.1.7 in /home/pka/.local/lib/python3.8/site-packages (from cmd2!=0.8.3,>=0.8.0->cliff->optuna) (0.2.5)\n",
      "Requirement already satisfied, skipping upgrade: attrs>=16.3.0 in /home/pka/.local/lib/python3.8/site-packages (from cmd2!=0.8.3,>=0.8.0->cliff->optuna) (19.3.0)\n",
      "Requirement already satisfied, skipping upgrade: pyperclip>=1.6 in /home/pka/.local/lib/python3.8/site-packages (from cmd2!=0.8.3,>=0.8.0->cliff->optuna) (1.8.1)\n",
      "Requirement already satisfied, skipping upgrade: colorama>=0.3.7 in /usr/lib/python3/dist-packages (from cmd2!=0.8.3,>=0.8.0->cliff->optuna) (0.4.3)\n"
     ]
    }
   ],
   "source": [
    "!pip3 install optuna --upgrade optuna"
   ]
  },
  {
   "cell_type": "code",
   "execution_count": 8,
   "metadata": {
    "execution": {
     "iopub.execute_input": "2021-02-10T21:47:34.246695Z",
     "iopub.status.busy": "2021-02-10T21:47:34.245561Z",
     "iopub.status.idle": "2021-02-10T21:47:34.905427Z",
     "shell.execute_reply": "2021-02-10T21:47:34.906491Z"
    },
    "id": "xUZaIo8t2yvc",
    "papermill": {
     "duration": 0.685707,
     "end_time": "2021-02-10T21:47:34.906705",
     "exception": false,
     "start_time": "2021-02-10T21:47:34.220998",
     "status": "completed"
    },
    "tags": []
   },
   "outputs": [],
   "source": [
    "import optuna\n",
    "# import albumentations as A"
   ]
  },
  {
   "cell_type": "code",
   "execution_count": 9,
   "metadata": {
    "execution": {
     "iopub.execute_input": "2021-02-10T21:47:35.000496Z",
     "iopub.status.busy": "2021-02-10T21:47:34.999887Z",
     "iopub.status.idle": "2021-02-10T21:47:35.646096Z",
     "shell.execute_reply": "2021-02-10T21:47:35.645297Z"
    },
    "id": "t4EYn4lO1iVC",
    "outputId": "6764d49e-3dab-4940-b0da-7c183dadd950",
    "papermill": {
     "duration": 0.6965,
     "end_time": "2021-02-10T21:47:35.646236",
     "exception": false,
     "start_time": "2021-02-10T21:47:34.949736",
     "status": "completed"
    },
    "tags": []
   },
   "outputs": [],
   "source": [
    "df = pd.read_csv('/home/pka/kaggle/Rainforest/input/train_tp.csv')\n",
    "\n",
    "df['dif_f'] = df.f_max - df.f_min\n",
    "df['dif_f'] = df['dif_f'].astype(int)\n",
    "df['bins'] = pd.cut(df.dif_f, 15, labels=False)\n",
    "\n",
    "df['file_name'] = 'file_name'\n",
    "data = np.load(PATH_IMG)\n",
    "for i in data.files[1:]:\n",
    "    recording_id, species_id, idx = i.split('.')[0], i.split('.')[1], i.split('.')[2]\n",
    "    if (df.loc[int(idx), 'recording_id'] == recording_id.split('/')[1] and df.loc[int(idx), 'species_id'] == int(species_id)):\n",
    "        df.loc[int(idx),'file_name'] = i\n",
    "    else:\n",
    "        print(idx, recording_id, i)"
   ]
  },
  {
   "cell_type": "code",
   "execution_count": 10,
   "metadata": {},
   "outputs": [],
   "source": [
    "\"\"\"\n",
    "folds to dataset 384\n",
    "\"\"\"\n",
    "\n",
    "# rec = []\n",
    "# tr_idx = []\n",
    "# vl_idx = []\n",
    "# data = np.load(PATH_IMG)\n",
    "# # for name in data.files[1:]:\n",
    "# #     rec_id = name.split('.')[0].split('/')[1]    \n",
    "# #     rec.append(rec_id)   \n",
    "    \n",
    "\n",
    "# skf = StratifiedKFold(n_splits=5, shuffle=True, random_state=13)\n",
    "# for f, (tr, vl) in enumerate(skf.split(df, df.bins.values)):\n",
    "#     print(len(tr), len(vl))\n",
    "#     tr_idx.append(tr)\n",
    "#     vl_idx.append(vl) \n",
    "    \n",
    "# a = np.take(df.file_name.values, tr_idx[0])"
   ]
  },
  {
   "cell_type": "code",
   "execution_count": 11,
   "metadata": {},
   "outputs": [
    {
     "name": "stdout",
     "output_type": "stream",
     "text": [
      "972 244\n",
      "973 243\n",
      "973 243\n",
      "973 243\n",
      "973 243\n"
     ]
    }
   ],
   "source": [
    "\"\"\"\n",
    "folds to dataset 260\n",
    "\"\"\"\n",
    "\n",
    "rec = []\n",
    "tr_idx = []\n",
    "vl_idx = []\n",
    "data = np.load(PATH_IMG)\n",
    "# for name in data.files[1:]:\n",
    "#     rec_id = name.split('.')[0].split('/')[1]    \n",
    "#     rec.append(rec_id)   \n",
    "    \n",
    "\n",
    "skf = StratifiedKFold(n_splits=5, shuffle=True, random_state=13)\n",
    "for f, (tr, vl) in enumerate(skf.split(data.files[1:], df.bins.values)):\n",
    "    print(len(tr), len(vl))\n",
    "    tr_idx.append(tr)\n",
    "    vl_idx.append(vl) \n",
    "    \n",
    "a = np.take(data.files[1:], tr_idx[0])"
   ]
  },
  {
   "cell_type": "code",
   "execution_count": 12,
   "metadata": {
    "execution": {
     "iopub.execute_input": "2021-02-10T21:47:35.703759Z",
     "iopub.status.busy": "2021-02-10T21:47:35.703112Z",
     "iopub.status.idle": "2021-02-10T21:47:37.742433Z",
     "shell.execute_reply": "2021-02-10T21:47:37.741469Z"
    },
    "id": "Kr5BlEYu1iVC",
    "papermill": {
     "duration": 2.073924,
     "end_time": "2021-02-10T21:47:37.742568",
     "exception": false,
     "start_time": "2021-02-10T21:47:35.668644",
     "status": "completed"
    },
    "tags": []
   },
   "outputs": [],
   "source": [
    "def rand_window(data: np.array)->np.array:\n",
    "    \"\"\"\n",
    "    we cut data 384.563 = 10 sec by random start and all time len ~6sec 384*384\n",
    "    \n",
    "    \n",
    "    test data shape (384, 376)\n",
    "    \"\"\"\n",
    "    \n",
    "    current_len = 563 # ~ 10 sec\n",
    "    cut_len = 376 # ~ 6 sec   \n",
    "    start = np.random.randint(0, current_len - cut_len)\n",
    "    len_img = (start + cut_len) - start\n",
    "    assert len_img == cut_len, f'error len {start}, {start + cut_len}'\n",
    "    return data[:, start: start + cut_len]  \n",
    "\n",
    "def mono_to_color(X: np.ndarray,\n",
    "                  mean=None,\n",
    "                  std=None,\n",
    "                  norm_max=None,\n",
    "                  norm_min=None,\n",
    "                  eps=1e-6):\n",
    "    \"\"\"\n",
    "    Code from https://www.kaggle.com/daisukelab/creating-fat2019-preprocessed-data\n",
    "    \"\"\"\n",
    "    # Stack X as [X,X,X]\n",
    "    X = np.stack([X, X, X], axis=-1)\n",
    "\n",
    "    # Standardize\n",
    "    mean = mean or X.mean()\n",
    "    X = X - mean\n",
    "    std = std or X.std()\n",
    "    Xstd = X / (std + eps)\n",
    "    _min, _max = Xstd.min(), Xstd.max()\n",
    "    norm_max = norm_max or _max\n",
    "    norm_min = norm_min or _min\n",
    "    if (_max - _min) > eps:\n",
    "        # Normalize to [0, 255]\n",
    "        V = Xstd\n",
    "        V[V < norm_min] = norm_min\n",
    "        V[V > norm_max] = norm_max\n",
    "        V = 255 * (V - norm_min) / (norm_max - norm_min)\n",
    "        V = V.astype(np.uint8)\n",
    "    else:\n",
    "        # Just zero\n",
    "        V = np.zeros_like(Xstd, dtype=np.uint8)\n",
    "    return V\n",
    "    \n",
    "    \n",
    "class RFDataset(Dataset):\n",
    "\n",
    "    def __init__(self, data, transform = None):        \n",
    "        # self.size = size     \n",
    "        self.transform = transform\n",
    "        self.zipdata = np.load(PATH_IMG)\n",
    "        self.data = data # list name npy,\n",
    "        \n",
    "    def __len__(self):\n",
    "        return self.data.shape[0]\n",
    "\n",
    "    def __getitem__(self, index):\n",
    "        name = self.data[index] \n",
    "        img = self.zipdata[name] \n",
    "#         img_ori = self.zipdata[name]  \n",
    "#         img = rand_window(img_ori)\n",
    "        sci_id = name.split('.')[1]\n",
    "        target = np.zeros(24)\n",
    "        target[int(sci_id)] = 1\n",
    "        img = mono_to_color(img)       \n",
    "        # if self.size is not None:\n",
    "        #     img = cv2.resize(img, (224, self.size)) \n",
    "\n",
    "        if self.transform is not None:\n",
    "            res = self.transform(image=img)\n",
    "            img = res['image']  \n",
    "            \n",
    "        img = img / 255.0\n",
    "        img = img.transpose(2, 0, 1).astype(np.float32)        \n",
    "             \n",
    "        return torch.tensor(img).float(),torch.tensor(target.astype(np.float16)).float() #check"
   ]
  },
  {
   "cell_type": "code",
   "execution_count": 13,
   "metadata": {
    "execution": {
     "iopub.execute_input": "2021-02-10T21:47:37.789620Z",
     "iopub.status.busy": "2021-02-10T21:47:37.789062Z",
     "iopub.status.idle": "2021-02-10T21:47:38.114780Z",
     "shell.execute_reply": "2021-02-10T21:47:38.113839Z"
    },
    "id": "j6GY5DGP1iVD",
    "outputId": "e8bf2180-a5e8-456f-a99c-19aa79e6440b",
    "papermill": {
     "duration": 0.350841,
     "end_time": "2021-02-10T21:47:38.114910",
     "exception": false,
     "start_time": "2021-02-10T21:47:37.764069",
     "status": "completed"
    },
    "tags": []
   },
   "outputs": [
    {
     "name": "stdout",
     "output_type": "stream",
     "text": [
      "torch.Size([3, 260, 563]) tensor([0., 0., 0., 0., 0., 0., 1., 0., 0., 0., 0., 0., 0., 0., 0., 0., 0., 0.,\n",
      "        0., 0., 0., 0., 0., 0.])\n"
     ]
    },
    {
     "data": {
      "text/plain": [
       "<matplotlib.image.AxesImage at 0x7f39f9cc5310>"
      ]
     },
     "execution_count": 13,
     "metadata": {},
     "output_type": "execute_result"
    },
    {
     "data": {
      "image/png": "[encoded data removed]",
      "text/plain": [
       "<Figure size 432x288 with 1 Axes>"
      ]
     },
     "metadata": {
      "needs_background": "light"
     },
     "output_type": "display_data"
    }
   ],
   "source": [
    "# transform = A.Compose([\n",
    "#                        A.RandomBrightness(limit=0.2, p=0.75),\n",
    "#                        A.RandomContrast(limit=0.2, p=0.75),\n",
    "#                        A.MotionBlur(blur_limit=5),\n",
    "#                        A.MedianBlur(blur_limit=5),\n",
    "#                        A.GaussianBlur(blur_limit=5),\n",
    "#                        A.GaussNoise(var_limit=(5.0, 30.0)),\n",
    "#                        A.OpticalDistortion(distort_limit=1.0),\n",
    "#                        A.GridDistortion(num_steps=5, distort_limit=1.),\n",
    "#                        A.ElasticTransform(alpha=3),\n",
    "#                        A.CLAHE(clip_limit=4.0, p=0.7),\n",
    "#                        A.HueSaturationValue(hue_shift_limit=10, sat_shift_limit=20, val_shift_limit=10, p=0.5),\n",
    "#                        ])\n",
    "\n",
    "d = RFDataset(a)\n",
    "img, target = d[4]\n",
    "print(img.shape, target)\n",
    "plt.imshow(np.transpose(img, (1,2,0)))"
   ]
  },
  {
   "cell_type": "code",
   "execution_count": 14,
   "metadata": {
    "execution": {
     "iopub.execute_input": "2021-02-10T21:47:38.177661Z",
     "iopub.status.busy": "2021-02-10T21:47:38.176735Z",
     "iopub.status.idle": "2021-02-10T21:47:39.343439Z",
     "shell.execute_reply": "2021-02-10T21:47:39.342384Z"
    },
    "id": "5Yll1VUf1iVD",
    "papermill": {
     "duration": 1.204389,
     "end_time": "2021-02-10T21:47:39.343584",
     "exception": false,
     "start_time": "2021-02-10T21:47:38.139195",
     "status": "completed"
    },
    "tags": []
   },
   "outputs": [],
   "source": [
    "sigmoid = torch.nn.Sigmoid()\n",
    "\n",
    "class Swish(torch.autograd.Function):\n",
    "    @staticmethod\n",
    "    def forward(ctx, i):\n",
    "        result = i * sigmoid(i)\n",
    "        ctx.save_for_backward(i)\n",
    "        return result\n",
    "    @staticmethod\n",
    "    def backward(ctx, grad_output):\n",
    "        i = ctx.saved_tensors[0]\n",
    "        sigmoid_i = sigmoid(i)\n",
    "        return grad_output * (sigmoid_i * (1 + i * (1 - sigmoid_i)))\n",
    "swish = Swish.apply\n",
    "\n",
    "class Swish_module(nn.Module):\n",
    "    def forward(self, x):\n",
    "        return swish(x)\n",
    "    \n",
    "swish_layer = Swish_module()\n",
    "\n",
    "# model for 384\n",
    "# class EffB3(nn.Module):\n",
    "\n",
    "#   def __init__(self):\n",
    "#     super(EffB3, self).__init__()\n",
    "#     self.model = geffnet.create_model('tf_efficientnet_lite4', pretrained=True) \n",
    "#     self.model.global_pool = nn.AdaptiveAvgPool2d((1,1)) \n",
    "# #     self.model.global_pool  = nn.AdaptiveMaxPool2d((1,1))\n",
    "#     in_ch = self.model.classifier.in_features #1536\n",
    "#     self.myfc = nn.Sequential(\n",
    "#         nn.Dropout(0.29),\n",
    "#         nn.Linear(in_ch, 1307),\n",
    "#         nn.BatchNorm1d(1307),\n",
    "#         nn.ReLU(),\n",
    "# #         Swish_module(),\n",
    "#         nn.Dropout(0.2),\n",
    "#         nn.Linear(1307, 1307),\n",
    "#         nn.BatchNorm1d(1307),\n",
    "#         nn.ReLU(),\n",
    "# #         Swish_module(),\n",
    "#         nn.Dropout(0.2),         \n",
    "#         nn.Linear(1307, 24)\n",
    "#     )   \n",
    "    \n",
    "#     self.model.classifier = nn.Identity()   \n",
    "      \n",
    "#   def extract(self, x):        \n",
    "#     x = self.model(x)        \n",
    "#     return x\n",
    "      \n",
    "#   def forward(self, x):    \n",
    "#     if len(torch.squeeze(x).shape) == 4:\n",
    "#         x = torch.squeeze(x)\n",
    "#     else:\n",
    "#         x\n",
    "#     bs, _, _, _ = x.shape    \n",
    "#     x = self.extract(x)     \n",
    "#     # x = x.view(bs, -1)   \n",
    "#     x = self.myfc(x)\n",
    "#     return x \n",
    "\n",
    "# model for 260\n",
    "class EffB3(nn.Module):\n",
    "\n",
    "  def __init__(self):\n",
    "    super(EffB3, self).__init__()\n",
    "    self.model = geffnet.create_model('tf_efficientnet_lite4', pretrained=True) \n",
    "    self.model.global_pool = nn.AdaptiveAvgPool2d((1,1)) \n",
    "#     self.model.global_pool  = nn.AdaptiveMaxPool2d((1,1))\n",
    "    in_ch = self.model.classifier.in_features #1536\n",
    "    self.myfc = nn.Sequential(\n",
    "        nn.Dropout(0.17418),\n",
    "        nn.Linear(in_ch, 785),\n",
    "        nn.BatchNorm1d(785),\n",
    "#         nn.ReLU(),\n",
    "        Swish_module(),\n",
    "        nn.Dropout(0.12), \n",
    "        \n",
    "        nn.Linear(785, 1038),\n",
    "        nn.BatchNorm1d(1038),\n",
    "#         nn.ReLU(),\n",
    "        Swish_module(),\n",
    "        nn.Dropout(0.3763722),       \n",
    "        nn.Linear(1038, 24)\n",
    "    )   \n",
    "    \n",
    "    self.model.classifier = nn.Identity()   \n",
    "      \n",
    "  def extract(self, x):        \n",
    "    x = self.model(x)        \n",
    "    return x\n",
    "      \n",
    "  def forward(self, x):    \n",
    "    if len(torch.squeeze(x).shape) == 4:\n",
    "        x = torch.squeeze(x)\n",
    "    else:\n",
    "        x\n",
    "    bs, _, _, _ = x.shape    \n",
    "    x = self.extract(x)     \n",
    "    # x = x.view(bs, -1)   \n",
    "    x = self.myfc(x)\n",
    "    return x"
   ]
  },
  {
   "cell_type": "code",
   "execution_count": 15,
   "metadata": {
    "execution": {
     "iopub.execute_input": "2021-02-10T21:47:39.397747Z",
     "iopub.status.busy": "2021-02-10T21:47:39.396886Z",
     "iopub.status.idle": "2021-02-10T21:47:39.399018Z",
     "shell.execute_reply": "2021-02-10T21:47:39.399407Z"
    },
    "id": "MQQ3pcDv1iVE",
    "papermill": {
     "duration": 0.031488,
     "end_time": "2021-02-10T21:47:39.399549",
     "exception": false,
     "start_time": "2021-02-10T21:47:39.368061",
     "status": "completed"
    },
    "tags": []
   },
   "outputs": [],
   "source": [
    "# !pip install torchsummary"
   ]
  },
  {
   "cell_type": "code",
   "execution_count": 16,
   "metadata": {
    "execution": {
     "iopub.execute_input": "2021-02-10T21:47:39.451840Z",
     "iopub.status.busy": "2021-02-10T21:47:39.450510Z",
     "iopub.status.idle": "2021-02-10T21:47:39.453026Z",
     "shell.execute_reply": "2021-02-10T21:47:39.453454Z"
    },
    "id": "lC9dRZjk1iVE",
    "papermill": {
     "duration": 0.030072,
     "end_time": "2021-02-10T21:47:39.453588",
     "exception": false,
     "start_time": "2021-02-10T21:47:39.423516",
     "status": "completed"
    },
    "tags": []
   },
   "outputs": [],
   "source": [
    "# from torchsummary import summary\n",
    "# summary(EffB3(ntarget = 24, nlayer = 1, h_size= 1024, dropout=0.5, activate_func='ReLU'), (3, 128, 550))"
   ]
  },
  {
   "cell_type": "code",
   "execution_count": 17,
   "metadata": {
    "execution": {
     "iopub.execute_input": "2021-02-10T21:47:39.505720Z",
     "iopub.status.busy": "2021-02-10T21:47:39.504168Z",
     "iopub.status.idle": "2021-02-10T21:47:39.506425Z",
     "shell.execute_reply": "2021-02-10T21:47:39.506840Z"
    },
    "id": "jdFBlFW61iVF",
    "papermill": {
     "duration": 0.029602,
     "end_time": "2021-02-10T21:47:39.506957",
     "exception": false,
     "start_time": "2021-02-10T21:47:39.477355",
     "status": "completed"
    },
    "tags": []
   },
   "outputs": [],
   "source": [
    "# m = nn.AdaptiveAvgPool2d((1,1))\n",
    "# input = torch.randn(1, 2, 128, 128)\n",
    "# m(input).shape"
   ]
  },
  {
   "cell_type": "code",
   "execution_count": 18,
   "metadata": {
    "execution": {
     "iopub.execute_input": "2021-02-10T21:47:39.558515Z",
     "iopub.status.busy": "2021-02-10T21:47:39.557647Z",
     "iopub.status.idle": "2021-02-10T21:47:39.926922Z",
     "shell.execute_reply": "2021-02-10T21:47:39.926428Z"
    },
    "id": "FWJFhH5b1iVF",
    "papermill": {
     "duration": 0.396174,
     "end_time": "2021-02-10T21:47:39.927064",
     "exception": false,
     "start_time": "2021-02-10T21:47:39.530890",
     "status": "completed"
    },
    "tags": []
   },
   "outputs": [],
   "source": [
    "def set_seed(seed=0):\n",
    "    random.seed(seed)\n",
    "    np.random.seed(seed)\n",
    "    torch.manual_seed(seed)\n",
    "    torch.cuda.manual_seed(seed)\n",
    "    torch.cuda.manual_seed_all(seed)\n",
    "    torch.backends.cudnn.deterministic = True\n",
    "\n",
    "\n",
    "def  train(model, loader, loss_f, optimizer, scaler):\n",
    "    model.train()\n",
    "    bar = tqdm(loader)\n",
    "    train_loss = []\n",
    "    train_target = []\n",
    "    train_prob = []\n",
    "    for (img, target) in bar:\n",
    "        optimizer.zero_grad()\n",
    "        if scaler:\n",
    "            # Runs the forward pass with autocasting.\n",
    "            with amp.autocast():\n",
    "                img, target = img.to(device), target.to(device)\n",
    "                y_ = model(img)\n",
    "                pred = loss_f(y_, target)\n",
    "            scaler.scale(pred).backward()\n",
    "            scaler.step(optimizer)\n",
    "            scaler.update()   \n",
    "        else:\n",
    "            img, target = img.to(device), target.to(device)\n",
    "            y_ = model(img)\n",
    "            pred = loss_f(y_, target)\n",
    "            pred.backward()\n",
    "            optimizer.step()\n",
    "        \n",
    "        train_loss.append(pred.detach().cpu().numpy())\n",
    "        prob = nn.Sigmoid()(y_)        \n",
    "        train_prob.append(prob.detach().cpu())\n",
    "        train_target.append(target.detach().cpu())            \n",
    "    \n",
    "    probs =  torch.cat(train_prob).numpy()\n",
    "    target = torch.cat(train_target).numpy()   \n",
    "#     auc = roc_auc_score(target, probs)\n",
    "    auc =0\n",
    "    return train_loss, auc\n",
    "\n",
    "\n",
    "def val_train(model, loader, loss_f):\n",
    "    val_loss = []\n",
    "    target_temp = []\n",
    "    probs = [] \n",
    "    val_corr = []\n",
    "    model.eval()\n",
    "    with torch.no_grad():\n",
    "        bar = tqdm(loader)\n",
    "        for (img, target) in bar:\n",
    "            img, target = img.to(device), target.to(device)\n",
    "            y_ = model(img)             \n",
    "            pred = loss_f(y_, target)            \n",
    "            prob = nn.Sigmoid()(y_)\n",
    "            _, tar_idx = torch.max(target, dim= 1)\n",
    "            _, ans_idx = torch.max(y_, dim= 1) #dim=0 values, if dim =1 return max value and index max value\n",
    "            corrects = 0\n",
    "            for i in range(0, len(ans_idx)):\n",
    "                if ans_idx[i] == tar_idx[i]:\n",
    "                    corrects = corrects + 1\n",
    "            val_corr.append(corrects)\n",
    "\n",
    "            val_loss.append(pred.detach().cpu())        \n",
    "            probs.append(prob.detach().cpu())\n",
    "\n",
    "            target_temp.append(target.detach().cpu())   \n",
    "            \n",
    "    val_loss = np.mean(val_loss) \n",
    "    val_corr = np.sum(val_corr)\n",
    "    probs =  torch.cat(probs).numpy()   \n",
    "    target = torch.cat(target_temp).numpy()  \n",
    "    \n",
    "    # суммирует кривую точности-отзыва как средневзвешенное значение точности\n",
    "    pr = average_precision_score(target, probs, average='weighted')\n",
    "    pr_m = average_precision_score(target, probs, average='micro')   \n",
    "\n",
    "    lraps = label_ranking_average_precision_score(target, probs)\n",
    "    score_loss = 0\n",
    "    \n",
    "    print(f'Correct ---------{np.sum(val_corr)}/{len(target)}')\n",
    "    \n",
    "    auc = roc_auc_score(target, probs)\n",
    "    correct = np.sum(val_corr)\n",
    "\n",
    "    return val_loss, auc, lraps, score_loss, pr, pr_m, correct\n",
    "\n",
    "\n",
    "def showtime(model, f: int, data, tr_idx: np.array, vl_idx: np.array, transform, param, trial, scaler):\n",
    "    start = time.ctime().replace('  ', ' ').replace(' ', '_')    \n",
    "    print('Fold: ', f)\n",
    "#     tr_idx = df['kfold'] != f\n",
    "#     vl_idx = df['kfold'] == f\n",
    "\n",
    "#     tr_label = label.loc[tr_idx].reset_index(drop=True)\n",
    "#     vl_label = label.loc[vl_idx].reset_index(drop=True)\n",
    "#     print(tr_label.shape, vl_label.shape)\n",
    "\n",
    "    tr = np.take(data.files[1:], tr_idx[f])\n",
    "    vl = np.take(data.files[1:], vl_idx[f])\n",
    "\n",
    "#     tr = np.take(data.file_name.values, tr_idx[f])\n",
    "#     vl = np.take(data.file_name.values, vl_idx[f])  \n",
    "    print(tr.shape, vl.shape)\n",
    "    \n",
    "    tr_dataset = RFDataset(tr, transform)\n",
    "    vl_dataset = RFDataset(vl)\n",
    "    \n",
    "    tr_loader = DataLoader(tr_dataset, batch_size=14, num_workers=1,\n",
    "                           sampler=RandomSampler(tr_dataset))\n",
    "    vl_loader = DataLoader(vl_dataset, batch_size=14, num_workers=1)    \n",
    "\n",
    "    kernel_type = type(model).__name__\n",
    "    model = model.to(device)\n",
    "    # need addd pos_weight \n",
    "    pos_weights = torch.ones(24)\n",
    "    pos_weights = pos_weights * 24    \n",
    "    loss_f = nn.BCEWithLogitsLoss(reduction=\"mean\", pos_weight=pos_weights).to(device)      \n",
    "    list_optim = {'Adam': optim.Adam, 'SGD' : optim.SGD} \n",
    "    \n",
    "#     if param['optimizer'] == 'SGD':\n",
    "#         optimizer = list_optim[param['optimizer']](model.parameters(),\n",
    "#                                                    lr=param['learning_rate'],\n",
    "#                                                    momentum = param['momentum'],\n",
    "#                                                    weight_decay = param['l2'])\n",
    "#     else:\n",
    "#         optimizer = list_optim[param['optimizer']](model.parameters(),\n",
    "#                                                    lr = param['learning_rate'],\n",
    "#                                                    weight_decay = param['l2'])\n",
    "    if param['optimizer'] == 'SGD':\n",
    "        optimizer = list_optim[param['optimizer']](model.parameters(),\n",
    "                                                   lr=param['learning_rate'],\n",
    "                                                   momentum = param['momentum'],\n",
    "                                                   weight_decay = param['l2'])\n",
    "    else:\n",
    "        optimizer = list_optim[param['optimizer']](model.parameters(),\n",
    "                                                   lr = param['learning_rate'],\n",
    "                                                   weight_decay = param['l2'])\n",
    "    # scheduler = optim.lr_scheduler.ReduceLROnPlateau(optimizer, mode='min',factor=0.9, patience=3, verbose=True)\n",
    "    scheduler_cosine = torch.optim.lr_scheduler.CosineAnnealingLR(optimizer, param['cosine'])\n",
    "#     scheduler_slr = torch.optim.lr_scheduler.StepLR(optimizer, step_size=param['step'], gamma=param['gamma'])\n",
    "    scheduler = GradualWarmupSchedulerV2(optimizer, multiplier=param['multiplier'],\n",
    "                                         total_epoch=param['warm'],\n",
    "                                         after_scheduler=scheduler_cosine)\n",
    "#     scheduler = optim.lr_scheduler.ReduceLROnPlateau(optimizer,\n",
    "#                                                      mode='min', \n",
    "#                                                      factor=param['factor'],\n",
    "#                                                      patience=param['patience'],\n",
    "#                                                      threshold=param['threshold'],\n",
    "#                                                      threshold_mode=param['threshold_mode'],                                                    \n",
    "#                                                      verbose=True) \n",
    "#     scheduler = torch.optim.lr_scheduler.CosineAnnealingWarmRestarts(optimizer,\n",
    "#                                                                          param['t_0'], \n",
    "#                                                                          T_mult=param['t_mul'], \n",
    "#                                                                          eta_min=param['eta_min'], \n",
    "#                                                                          last_epoch=-1,\n",
    "#                                                                          verbose=False)\n",
    "#     scheduler = torch.optim.lr_scheduler.StepLR(optimizer,\n",
    "#                                                 step_size=7,\n",
    "#                                                 gamma=0.4,\n",
    "#                                                 verbose=True)\n",
    "#     scheduler = torch.optim.lr_scheduler.CyclicLR(optimizer,\n",
    "#                                               0.001,\n",
    "#                                               0.2,\n",
    "#                                               step_size_up=1,\n",
    "#                                               step_size_down=10,\n",
    "#                                               mode='triangular2', \n",
    "#                                               gamma=1, \n",
    "#                                               scale_fn=None, \n",
    "#                                               scale_mode='cycle',\n",
    "#                                               cycle_momentum=True,\n",
    "#                                               base_momentum=0.8, \n",
    "#                                               max_momentum=0.9, \n",
    "#                                               last_epoch=-1, \n",
    "#                                               verbose=False)\n",
    "    \n",
    "\n",
    "\n",
    "    lraps_max = 0\n",
    "    loss = np.inf\n",
    "    correct_max = 0\n",
    "    early_stop_iter = 10\n",
    "    early_stop_count = 0\n",
    "    for ep in range(0, param['n_epoch']):\n",
    "        print('Epoch: ', ep + 1)\n",
    "        \n",
    "        \n",
    "        train_loss, auc_train = train(model, tr_loader, loss_f, optimizer, scaler)\n",
    "        val_loss, auc, lraps, score_loss, pr,pr_m, correct = val_train(model, vl_loader, loss_f)\n",
    "        scheduler.step()\n",
    "\n",
    "        log = time.ctime().replace('  ', ' ').replace(' ', '_') + ',' + f'Fold:{f},Epoch:{ep},lr:{optimizer.param_groups[0][\"lr\"]:.7f},Auc_val:{auc:.5f},Auc_train:{auc_train:.5f},LRAPS:{lraps:.5f},lwlrap:{score_loss:.5f},train_loss:{np.mean(train_loss):.5f},val_loss:{val_loss:.5f}'\n",
    "               \n",
    "        print(log)\n",
    "        if (lraps > lraps_max) and (val_loss < loss):\n",
    "            print(f'lraps_max: {lraps} --> {lraps_max}, PRw: {pr}, PRmicro: {pr_m}). Saving model ...')\n",
    "#             torch.save(model.state_dict(), os.path.join(PATH_MODEL, f'{trial}_{kernel_type}_best_fold_{f}.pth'))\n",
    "            lraps_max = lraps\n",
    "            loss = val_loss\n",
    "            \n",
    "#         if ep > 5:\n",
    "#             if correct > correct_max:\n",
    "#                 print(f'correct_max: {correct} --> {correct_max}, PRw: {pr}, PRmicro: {pr_m}). Saving model ...')\n",
    "#                 torch.save(model.state_dict(), os.path.join(PATH_MODEL, f'{kernel_type}_best_correct_fold_{f}.pth'))\n",
    "#                 correct_max = correct  \n",
    "        if lraps < lraps_max:\n",
    "          early_stop_count += 1\n",
    "\n",
    "        if early_stop_iter < early_stop_count:\n",
    "          print('early stop')\n",
    "          break\n",
    "\n",
    "        # scheduler.step(val_loss) \n",
    "#         scheduler.step()\n",
    "\n",
    "    torch.cuda.empty_cache()\n",
    "    return lraps_max, loss, correct  "
   ]
  },
  {
   "cell_type": "code",
   "execution_count": 19,
   "metadata": {
    "execution": {
     "iopub.execute_input": "2021-02-10T21:47:39.980659Z",
     "iopub.status.busy": "2021-02-10T21:47:39.980099Z",
     "iopub.status.idle": "2021-02-10T21:47:48.145812Z",
     "shell.execute_reply": "2021-02-10T21:47:48.145293Z"
    },
    "id": "Fl0QgdWpvceP",
    "outputId": "31776591-c6e4-4a0b-d57b-bb973bae6ede",
    "papermill": {
     "duration": 8.194162,
     "end_time": "2021-02-10T21:47:48.145955",
     "exception": false,
     "start_time": "2021-02-10T21:47:39.951793",
     "status": "completed"
    },
    "tags": []
   },
   "outputs": [],
   "source": [
    "!pip3 -q install git+https://github.com/ildoonet/pytorch-gradual-warmup-lr.git"
   ]
  },
  {
   "cell_type": "code",
   "execution_count": 20,
   "metadata": {
    "execution": {
     "iopub.execute_input": "2021-02-10T21:47:48.206247Z",
     "iopub.status.busy": "2021-02-10T21:47:48.205003Z",
     "iopub.status.idle": "2021-02-10T21:47:48.211414Z",
     "shell.execute_reply": "2021-02-10T21:47:48.210945Z"
    },
    "id": "bqmRz9rCpVGs",
    "papermill": {
     "duration": 0.039967,
     "end_time": "2021-02-10T21:47:48.211549",
     "exception": false,
     "start_time": "2021-02-10T21:47:48.171582",
     "status": "completed"
    },
    "tags": []
   },
   "outputs": [],
   "source": [
    "from torch.optim.lr_scheduler import CosineAnnealingLR\n",
    "from warmup_scheduler import GradualWarmupScheduler  # https://github.com/ildoonet/pytorch-gradual-warmup-lr\n",
    "\n",
    "# Fix Warmup Bug\n",
    "class GradualWarmupSchedulerV2(GradualWarmupScheduler):\n",
    "    def __init__(self, optimizer, multiplier, total_epoch, after_scheduler=None):\n",
    "        super(GradualWarmupSchedulerV2, self).__init__(optimizer, multiplier, total_epoch, after_scheduler)\n",
    "    def get_lr(self):\n",
    "        if self.last_epoch > self.total_epoch:\n",
    "            if self.after_scheduler:\n",
    "                if not self.finished:\n",
    "                    self.after_scheduler.base_lrs = [base_lr * self.multiplier for base_lr in self.base_lrs]\n",
    "                    self.finished = True\n",
    "                return self.after_scheduler.get_lr()\n",
    "            return [base_lr * self.multiplier for base_lr in self.base_lrs]\n",
    "        if self.multiplier == 1.0:\n",
    "            return [base_lr * (float(self.last_epoch) / self.total_epoch) for base_lr in self.base_lrs]\n",
    "        else:\n",
    "            return [base_lr * ((self.multiplier - 1.) * self.last_epoch / self.total_epoch + 1.) for base_lr in self.base_lrs]"
   ]
  },
  {
   "cell_type": "code",
   "execution_count": 21,
   "metadata": {
    "execution": {
     "iopub.execute_input": "2021-02-10T21:47:48.270913Z",
     "iopub.status.busy": "2021-02-10T21:47:48.270219Z",
     "iopub.status.idle": "2021-02-10T21:47:48.417781Z",
     "shell.execute_reply": "2021-02-10T21:47:48.416556Z"
    },
    "id": "mbebroVhteV9",
    "outputId": "131b9fe9-8a5d-4fad-f53c-5d68577f0d43",
    "papermill": {
     "duration": 0.181045,
     "end_time": "2021-02-10T21:47:48.417927",
     "exception": false,
     "start_time": "2021-02-10T21:47:48.236882",
     "status": "completed"
    },
    "tags": []
   },
   "outputs": [
    {
     "name": "stderr",
     "output_type": "stream",
     "text": [
      "/home/pka/.local/lib/python3.8/site-packages/torch/optim/lr_scheduler.py:118: UserWarning: Detected call of `lr_scheduler.step()` before `optimizer.step()`. In PyTorch 1.1.0 and later, you should call them in the opposite order: `optimizer.step()` before `lr_scheduler.step()`.  Failure to do this will result in PyTorch skipping the first value of the learning rate schedule. See more details at https://pytorch.org/docs/stable/optim.html#how-to-adjust-learning-rate\n",
      "  warnings.warn(\"Detected call of `lr_scheduler.step()` before `optimizer.step()`. \"\n",
      "/home/pka/.local/lib/python3.8/site-packages/torch/optim/lr_scheduler.py:143: UserWarning: The epoch parameter in `scheduler.step()` was not necessary and is being deprecated where possible. Please use `scheduler.step()` to step the scheduler. During the deprecation, if epoch is different from None, the closed form is used instead of the new chainable form, where available. Please open an issue if you are unable to replicate your use case: https://github.com/pytorch/pytorch/issues/new/choose.\n",
      "  warnings.warn(EPOCH_DEPRECATION_WARNING, UserWarning)\n",
      "/home/pka/.local/lib/python3.8/site-packages/torch/optim/lr_scheduler.py:350: UserWarning: To get the last learning rate computed by the scheduler, please use `get_last_lr()`.\n",
      "  warnings.warn(\"To get the last learning rate computed by the scheduler, \"\n"
     ]
    },
    {
     "data": {
      "text/plain": [
       "[<matplotlib.lines.Line2D at 0x7f39843cde80>]"
      ]
     },
     "execution_count": 21,
     "metadata": {},
     "output_type": "execute_result"
    },
    {
     "data": {
      "image/png": "[encoded data removed]",
      "text/plain": [
       "<Figure size 432x288 with 1 Axes>"
      ]
     },
     "metadata": {},
     "output_type": "display_data"
    }
   ],
   "source": [
    "import torch\n",
    "import torch.optim as optim\n",
    "import torch.nn as nn\n",
    "import matplotlib.pyplot as plt\n",
    "plt.style.use('ggplot')\n",
    "\n",
    "\n",
    "freeze_epo = 45\n",
    "warmup_epo = 5\n",
    "cosine_epo = 30\n",
    "n_epochs = freeze_epo + warmup_epo + cosine_epo\n",
    "\n",
    "\n",
    "model =  nn.Linear(100, 10)\n",
    "optimizer = optim.Adam(model.parameters())\n",
    "scheduler_cosine = torch.optim.lr_scheduler.CosineAnnealingLR(optimizer, cosine_epo)\n",
    "scheduler_slr = torch.optim.lr_scheduler.StepLR(optimizer, step_size=5, gamma=0.45)\n",
    "# scheduler_exp = torch.optim.lr_scheduler.ExponentialLR(optimizer, gamma= .5)\n",
    "scheduler = GradualWarmupSchedulerV2(optimizer, multiplier=10, total_epoch=warmup_epo, after_scheduler=scheduler_slr)\n",
    "\n",
    "tmp = []\n",
    "for epoch in range(1, n_epochs+1):\n",
    "  scheduler.step(epoch-1)\n",
    "  tmp.append(optimizer.param_groups[0][\"lr\"])\n",
    "#   print(scheduler.get_last_lr())\n",
    "\n",
    "\n",
    "plt.plot(tmp)"
   ]
  },
  {
   "cell_type": "markdown",
   "metadata": {
    "id": "Jaz-EG6hlgF5",
    "papermill": {
     "duration": 0.026604,
     "end_time": "2021-02-10T21:47:48.471493",
     "exception": false,
     "start_time": "2021-02-10T21:47:48.444889",
     "status": "completed"
    },
    "tags": []
   },
   "source": [
    "Main indea is i choice schelder and\n",
    "  try find bes param:\n",
    "    - optimizer\n",
    "    - lr\n",
    "\n",
    "1. GradualWarmupScheduler  # https://github.com/ildoonet/pytorch-gradual-warmup-lr\n",
    "2. i process"
   ]
  },
  {
   "cell_type": "code",
   "execution_count": null,
   "metadata": {
    "execution": {
     "iopub.execute_input": "2021-02-10T21:47:48.534595Z",
     "iopub.status.busy": "2021-02-10T21:47:48.533779Z",
     "iopub.status.idle": "2021-02-11T00:37:42.355899Z",
     "shell.execute_reply": "2021-02-11T00:37:42.356545Z"
    },
    "id": "Z2981yrRWq3P",
    "outputId": "cbb993a9-c8b4-40fc-ec7e-19172004003f",
    "papermill": {
     "duration": 10193.858731,
     "end_time": "2021-02-11T00:37:42.356757",
     "exception": false,
     "start_time": "2021-02-10T21:47:48.498026",
     "status": "completed"
    },
    "scrolled": false,
    "tags": []
   },
   "outputs": [],
   "source": [
    "\"\"\"      \n",
    "torch.optim.RMSprop(params, lr=0.01, alpha=0.99, eps=1e-08, weight_decay=0, momentum=0, centered=False)\n",
    "torch.optim.SGD(params, lr=<required parameter>, momentum=0, dampening=0, weight_decay=0, nesterov=False)\n",
    "https://stackoverflow.com/questions/64781266/optuna-pytorch-returned-value-from-the-objective-function-cannot-be-cast-to-flo\n",
    "\n",
    "https://optuna.readthedocs.io/en/stable/tutorial/002_configurations.html#sphx-glr-tutorial-002-configurations-py\n",
    "\"\"\"\n",
    "def objective(trial):\n",
    "    param = {\n",
    "        'learning_rate': trial.suggest_loguniform('LR', 1e-4, 1e-2),\n",
    "        'momentum' : trial.suggest_uniform('momentum', 0.8, 0.9),\n",
    "        'optimizer': trial.suggest_categorical('optimizer',['Adam', 'SGD']), \n",
    "        'warm' : trial.suggest_int('warm', 1, 10), # how epoch up lr\n",
    "        'multiplier': trial.suggest_int('multiplier', 1, 10),\n",
    "        'l2': trial.suggest_loguniform('l2', 1.0e-5, 1.0e-4),\n",
    "#         'step':trial.suggest_int('step', 2, 5),\n",
    "#         'gamma':trial.suggest_float('gamma', 0.45, 1, step = 0.05)\n",
    "        \n",
    "      }\n",
    "    \n",
    "    freeze = 0\n",
    "    cosine_epo =  30 - (freeze + param['warm'])  \n",
    "    n_epoch = freeze + param['warm'] + cosine_epo  \n",
    "    print(n_epoch, 'epoch')\n",
    "    param['cosine'] = cosine_epo\n",
    "    param['n_epoch'] = n_epoch\n",
    "    tmp, tmp_loss, tmp_cor = [], [], []\n",
    "    \n",
    "\n",
    "\n",
    "    trial = hex(random.getrandbits(32)) \n",
    "    break_param = False\n",
    "    for i in [1, 2, 4]:\n",
    "        fold = i \n",
    "        transform_tr = None\n",
    "        model = EffB3()  \n",
    "        auc_max, loss, correct = showtime(model, fold, data, tr_idx, vl_idx, transform_tr, param, trial, scaler)\n",
    "        tmp.append(auc_max)\n",
    "        tmp_loss.append(loss)\n",
    "        tmp_cor.append(correct)\n",
    "        if np.max(tmp_cor) <= 190:\n",
    "            print('Break....')\n",
    "            break_param = True\n",
    "            break\n",
    "            \n",
    "        \n",
    "    print(tmp)\n",
    "    print(tmp_loss)\n",
    "    print(tmp_cor)\n",
    "    print(f'Model trial: {trial}')\n",
    "    \"\"\"\n",
    "    out see:\n",
    "        Mon_Feb_15_16:42:28_2021,Fold:1,Epoch:29,lr:0.0000104,Auc_val:0.91488,Auc_train:0.00000,LRAPS:0.66527,lwlrap:0.00000,train_loss:0.33324,val_loss:0.72857\n",
    "        [0.6739151142517208]\n",
    "        [0.72041756]\n",
    "        [128]\n",
    "        Model trial: 0x424e617b    \n",
    "    \"\"\"\n",
    "    \n",
    "    if break_param:\n",
    "        return 0\n",
    "    return np.mean(tmp)\n",
    "\n",
    "set_seed(SEED)\n",
    "scaler = amp.GradScaler()\n",
    "study = optuna.create_study(direction='maximize')\n",
    "study.optimize(objective, n_trials = 40)\n",
    "print(f'best trial : {study.best_trial}')\n",
    "print(study.best_trial.params)"
   ]
  }
 ],
 "metadata": {
  "kernelspec": {
   "display_name": "Python 3",
   "language": "python",
   "name": "python3"
  },
  "language_info": {
   "codemirror_mode": {
    "name": "ipython",
    "version": 3
   },
   "file_extension": ".py",
   "mimetype": "text/x-python",
   "name": "python",
   "nbconvert_exporter": "python",
   "pygments_lexer": "ipython3",
   "version": "3.8.5"
  },
  "papermill": {
   "default_parameters": {},
   "duration": 10249.384773,
   "end_time": "2021-02-11T00:37:53.522432",
   "environment_variables": {},
   "exception": null,
   "input_path": "__notebook__.ipynb",
   "output_path": "__notebook__.ipynb",
   "parameters": {},
   "start_time": "2021-02-10T21:47:04.137659",
   "version": "2.2.2"
  }
 },
 "nbformat": 4,
 "nbformat_minor": 4
}
